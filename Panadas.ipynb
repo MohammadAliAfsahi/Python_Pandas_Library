{
  "nbformat": 4,
  "nbformat_minor": 0,
  "metadata": {
    "colab": {
      "name": "Panadas",
      "version": "0.3.2",
      "provenance": [],
      "collapsed_sections": [],
      "include_colab_link": true
    },
    "kernelspec": {
      "name": "python3",
      "display_name": "Python 3"
    }
  },
  "cells": [
    {
      "cell_type": "markdown",
      "metadata": {
        "id": "view-in-github",
        "colab_type": "text"
      },
      "source": [
        "<a href=\"https://colab.research.google.com/github/MohammadAliAfsahi/Python_Pandas_Library/blob/master/Panadas.ipynb\" target=\"_parent\"><img src=\"https://colab.research.google.com/assets/colab-badge.svg\" alt=\"Open In Colab\"/></a>"
      ]
    },
    {
      "cell_type": "code",
      "metadata": {
        "id": "JUeuFAF7__Fv",
        "colab_type": "code",
        "outputId": "144313b1-b6c5-4707-8197-ca664cba32d3",
        "colab": {
          "base_uri": "https://localhost:8080/",
          "height": 367
        }
      },
      "source": [
        "import pandas as pd\n",
        "from google.colab import drive\n",
        "\n",
        "url = 'https://raw.githubusercontent.com/jennybc/gapminder/master/inst/extdata/gapminder.tsv'\n",
        "\n",
        "drive.mount('/content/drive')\n",
        "\n",
        "path = \"/content/drive/My Drive/Colab Notebooks/hard_drive_failure_data.csv\"\n",
        "\n",
        "dataFrame = pd.read_csv(path)\n",
        "\n",
        "print(dataFrame.tail())\n",
        "\n",
        "dataFrame2 = pd.read_csv(url,sep=\"\\t\")\n",
        "\n",
        "print(dataFrame2.head())\n"
      ],
      "execution_count": 1,
      "outputs": [
        {
          "output_type": "stream",
          "text": [
            "Go to this URL in a browser: https://accounts.google.com/o/oauth2/auth?client_id=947318989803-6bn6qk8qdgf4n4g3pfee6491hc0brc4i.apps.googleusercontent.com&redirect_uri=urn%3Aietf%3Awg%3Aoauth%3A2.0%3Aoob&scope=email%20https%3A%2F%2Fwww.googleapis.com%2Fauth%2Fdocs.test%20https%3A%2F%2Fwww.googleapis.com%2Fauth%2Fdrive%20https%3A%2F%2Fwww.googleapis.com%2Fauth%2Fdrive.photos.readonly%20https%3A%2F%2Fwww.googleapis.com%2Fauth%2Fpeopleapi.readonly&response_type=code\n",
            "\n",
            "Enter your authorization code:\n",
            "··········\n",
            "Mounted at /content/drive\n",
            "                    @timestamp  @version  ...   serial_number lifetime\n",
            "2982  2018-02-15T08:36:30.539Z         1  ...        ZA13R3T3      316\n",
            "2983  2018-02-15T08:54:52.382Z         1  ...        Z3014P0L      724\n",
            "2984  2018-02-15T08:55:11.378Z         1  ...        ZCH03K2S       46\n",
            "2985  2018-02-15T10:29:54.647Z         1  ...        S301GNPF      725\n",
            "2986  2018-02-15T10:35:37.917Z         1  ...  PL1331LAHD1JAH      559\n",
            "\n",
            "[5 rows x 8 columns]\n",
            "       country continent  year  lifeExp       pop   gdpPercap\n",
            "0  Afghanistan      Asia  1952   28.801   8425333  779.445314\n",
            "1  Afghanistan      Asia  1957   30.332   9240934  820.853030\n",
            "2  Afghanistan      Asia  1962   31.997  10267083  853.100710\n",
            "3  Afghanistan      Asia  1967   34.020  11537966  836.197138\n",
            "4  Afghanistan      Asia  1972   36.088  13079460  739.981106\n"
          ],
          "name": "stdout"
        }
      ]
    },
    {
      "cell_type": "code",
      "metadata": {
        "id": "7ouD8Tu3oacz",
        "colab_type": "code",
        "outputId": "75150ce9-db05-4192-bed0-ae39eb8d3eda",
        "colab": {
          "base_uri": "https://localhost:8080/",
          "height": 34
        }
      },
      "source": [
        "print(type(dataFrame2))"
      ],
      "execution_count": 2,
      "outputs": [
        {
          "output_type": "stream",
          "text": [
            "<class 'pandas.core.frame.DataFrame'>\n"
          ],
          "name": "stdout"
        }
      ]
    },
    {
      "cell_type": "code",
      "metadata": {
        "id": "GE69jcwYowts",
        "colab_type": "code",
        "outputId": "39d894ea-d9a7-4f73-ba04-cc871d899325",
        "colab": {
          "base_uri": "https://localhost:8080/",
          "height": 34
        }
      },
      "source": [
        "print(dataFrame2.shape)"
      ],
      "execution_count": 3,
      "outputs": [
        {
          "output_type": "stream",
          "text": [
            "(1704, 6)\n"
          ],
          "name": "stdout"
        }
      ]
    },
    {
      "cell_type": "code",
      "metadata": {
        "id": "eygpBIlqpLZQ",
        "colab_type": "code",
        "outputId": "0f451de9-b32b-44b7-9f98-7fdf629d4b9c",
        "colab": {
          "base_uri": "https://localhost:8080/",
          "height": 69
        }
      },
      "source": [
        "print(dataFrame.columns)"
      ],
      "execution_count": 4,
      "outputs": [
        {
          "output_type": "stream",
          "text": [
            "Index(['@timestamp', '@version', 'capacity_bytes', 'date', 'failure', 'model',\n",
            "       'serial_number', 'lifetime'],\n",
            "      dtype='object')\n"
          ],
          "name": "stdout"
        }
      ]
    },
    {
      "cell_type": "code",
      "metadata": {
        "id": "pheEcOHdpsn5",
        "colab_type": "code",
        "outputId": "9388c6b5-3414-465d-89fe-cc12b016fe0f",
        "colab": {
          "base_uri": "https://localhost:8080/",
          "height": 416
        }
      },
      "source": [
        "print(\"-------------------checking columns data(each Series) type using dtypes attribute-------------\")\n",
        "print(dataFrame.dtypes)\n",
        "print(\"-------------------checking columns data(each Series) type using info() function-------------\")\n",
        "print(dataFrame2.info())"
      ],
      "execution_count": 5,
      "outputs": [
        {
          "output_type": "stream",
          "text": [
            "-------------------checking columns data(each Series) type using dtypes attribute-------------\n",
            "@timestamp         object\n",
            "@version            int64\n",
            "capacity_bytes    float64\n",
            "date               object\n",
            "failure             int64\n",
            "model              object\n",
            "serial_number      object\n",
            "lifetime            int64\n",
            "dtype: object\n",
            "-------------------checking columns data(each Series) type using info() function-------------\n",
            "<class 'pandas.core.frame.DataFrame'>\n",
            "RangeIndex: 1704 entries, 0 to 1703\n",
            "Data columns (total 6 columns):\n",
            "country      1704 non-null object\n",
            "continent    1704 non-null object\n",
            "year         1704 non-null int64\n",
            "lifeExp      1704 non-null float64\n",
            "pop          1704 non-null int64\n",
            "gdpPercap    1704 non-null float64\n",
            "dtypes: float64(2), int64(2), object(2)\n",
            "memory usage: 80.0+ KB\n",
            "None\n"
          ],
          "name": "stdout"
        }
      ]
    },
    {
      "cell_type": "code",
      "metadata": {
        "id": "KCDe3remqexe",
        "colab_type": "code",
        "outputId": "452f875c-55a2-4418-c1f2-70733f12a907",
        "colab": {
          "base_uri": "https://localhost:8080/",
          "height": 1000
        }
      },
      "source": [
        "models = dataFrame['model']\n",
        "continent = dataFrame2['continent']\n",
        "print(models)\n",
        "\n",
        "print(\"\\nhead rows of models column: \")\n",
        "print(models.head())\n",
        "\n",
        "print(\"\\ntail rows of models column: \")\n",
        "print(models.tail())\n",
        "\n",
        "# or instead of using dictionary form of dataframes we cant use dot notation as below\n",
        "print(\"\\nusing dot notation: \")\n",
        "models_dot = dataFrame.model\n",
        "continent_dot = dataFrame2.continent\n",
        "print(continent_dot)\n"
      ],
      "execution_count": 6,
      "outputs": [
        {
          "output_type": "stream",
          "text": [
            "0                   ST8000DM002\n",
            "1                 ST250LM004 HN\n",
            "2                   ST4000DM000\n",
            "3                   ST8000DM002\n",
            "4                   ST4000DM000\n",
            "5                   ST4000DM000\n",
            "6                   ST4000DM000\n",
            "7                   ST4000DM000\n",
            "8                   ST8000DM002\n",
            "9          HGST HMS5C4040BLE640\n",
            "10                  ST4000DM000\n",
            "11                  ST4000DX000\n",
            "12         HGST HMS5C4040BLE640\n",
            "13         HGST HMS5C4040ALE640\n",
            "14                  ST4000DM000\n",
            "15                  ST4000DM000\n",
            "16                  ST4000DM000\n",
            "17                  ST4000DM000\n",
            "18                  ST4000DM000\n",
            "19                  ST4000DM000\n",
            "20                  ST4000DX000\n",
            "21                  ST4000DM000\n",
            "22                  ST4000DM000\n",
            "23                  ST4000DM000\n",
            "24      Hitachi HDS5C4040ALE630\n",
            "25         HGST HMS5C4040BLE640\n",
            "26                  ST4000DM000\n",
            "27                  ST4000DM000\n",
            "28                  ST4000DM000\n",
            "29                  ST4000DM000\n",
            "                 ...           \n",
            "2957                ST4000DM000\n",
            "2958                ST4000DM000\n",
            "2959                ST4000DM000\n",
            "2960                ST4000DM000\n",
            "2961               ST8000NM0055\n",
            "2962                ST8000DM002\n",
            "2963              ST10000NM0086\n",
            "2964               ST8000NM0055\n",
            "2965                ST4000DM001\n",
            "2966                ST4000DM000\n",
            "2967                ST4000DM000\n",
            "2968                ST4000DM001\n",
            "2969                ST4000DM001\n",
            "2970                ST4000DM000\n",
            "2971                ST4000DM000\n",
            "2972                ST4000DM000\n",
            "2973                ST4000DM000\n",
            "2974                ST4000DM000\n",
            "2975                ST4000DM000\n",
            "2976                ST4000DM000\n",
            "2977                ST4000DM000\n",
            "2978               ST8000NM0055\n",
            "2979    Hitachi HDS5C4040ALE630\n",
            "2980                ST4000DM000\n",
            "2981               ST8000NM0055\n",
            "2982                ST8000DM002\n",
            "2983                ST4000DM000\n",
            "2984              ST12000NM0007\n",
            "2985                ST4000DM000\n",
            "2986       HGST HMS5C4040BLE640\n",
            "Name: model, Length: 2987, dtype: object\n",
            "\n",
            "head rows of models column: \n",
            "0      ST8000DM002\n",
            "1    ST250LM004 HN\n",
            "2      ST4000DM000\n",
            "3      ST8000DM002\n",
            "4      ST4000DM000\n",
            "Name: model, dtype: object\n",
            "\n",
            "tail rows of models column: \n",
            "2982             ST8000DM002\n",
            "2983             ST4000DM000\n",
            "2984           ST12000NM0007\n",
            "2985             ST4000DM000\n",
            "2986    HGST HMS5C4040BLE640\n",
            "Name: model, dtype: object\n",
            "\n",
            "using dot notation: \n",
            "0         Asia\n",
            "1         Asia\n",
            "2         Asia\n",
            "3         Asia\n",
            "4         Asia\n",
            "5         Asia\n",
            "6         Asia\n",
            "7         Asia\n",
            "8         Asia\n",
            "9         Asia\n",
            "10        Asia\n",
            "11        Asia\n",
            "12      Europe\n",
            "13      Europe\n",
            "14      Europe\n",
            "15      Europe\n",
            "16      Europe\n",
            "17      Europe\n",
            "18      Europe\n",
            "19      Europe\n",
            "20      Europe\n",
            "21      Europe\n",
            "22      Europe\n",
            "23      Europe\n",
            "24      Africa\n",
            "25      Africa\n",
            "26      Africa\n",
            "27      Africa\n",
            "28      Africa\n",
            "29      Africa\n",
            "         ...  \n",
            "1674      Asia\n",
            "1675      Asia\n",
            "1676      Asia\n",
            "1677      Asia\n",
            "1678      Asia\n",
            "1679      Asia\n",
            "1680    Africa\n",
            "1681    Africa\n",
            "1682    Africa\n",
            "1683    Africa\n",
            "1684    Africa\n",
            "1685    Africa\n",
            "1686    Africa\n",
            "1687    Africa\n",
            "1688    Africa\n",
            "1689    Africa\n",
            "1690    Africa\n",
            "1691    Africa\n",
            "1692    Africa\n",
            "1693    Africa\n",
            "1694    Africa\n",
            "1695    Africa\n",
            "1696    Africa\n",
            "1697    Africa\n",
            "1698    Africa\n",
            "1699    Africa\n",
            "1700    Africa\n",
            "1701    Africa\n",
            "1702    Africa\n",
            "1703    Africa\n",
            "Name: continent, Length: 1704, dtype: object\n"
          ],
          "name": "stdout"
        }
      ]
    },
    {
      "cell_type": "code",
      "metadata": {
        "id": "4M5V7Vs5uIGh",
        "colab_type": "code",
        "outputId": "43db5e8f-c5a3-43a2-edce-15cfc4b38ba0",
        "colab": {
          "base_uri": "https://localhost:8080/",
          "height": 1000
        }
      },
      "source": [
        "subset = dataFrame[['failure','model','serial_number','lifetime']]\n",
        "print(subset)\n",
        "# again we cam use subset.head() or subset.tail()\n",
        "\n"
      ],
      "execution_count": 7,
      "outputs": [
        {
          "output_type": "stream",
          "text": [
            "      failure                    model   serial_number  lifetime\n",
            "0           1              ST8000DM002        ZA11WTAK       299\n",
            "1           1            ST250LM004 HN  S2T0J9ACB00405       473\n",
            "2           1              ST4000DM000        Z300GQJ1       483\n",
            "3           1              ST8000DM002        ZA13QBYE       159\n",
            "4           1              ST4000DM000        Z3040KMY       477\n",
            "5           1              ST4000DM000        W300DD6P       481\n",
            "6           1              ST4000DM000        S300XBP0       484\n",
            "7           1              ST4000DM000        Z305BNDZ       485\n",
            "8           1              ST8000DM002        ZA12QCHW       198\n",
            "9           1     HGST HMS5C4040BLE640  PL2331LAH46A7J       361\n",
            "10          1              ST4000DM000        Z3059LJ1       446\n",
            "11          1              ST4000DX000        Z1Z054BY       471\n",
            "12          1     HGST HMS5C4040BLE640  PL1331LAHBSRGH        26\n",
            "13          1     HGST HMS5C4040ALE640  PL1331LAGSE14H       463\n",
            "14          1              ST4000DM000        Z305BAKB       428\n",
            "15          1              ST4000DM000        Z300GQ7V       471\n",
            "16          1              ST4000DM000        W300D26M       462\n",
            "17          1              ST4000DM000        Z3054HPN       416\n",
            "18          1              ST4000DM000        Z300GZBV       468\n",
            "19          1              ST4000DM000        Z3024W1C       470\n",
            "20          1              ST4000DX000        Z1Z03J9E       460\n",
            "21          1              ST4000DM000        Z304L9P8       490\n",
            "22          1              ST4000DM000        Z3023X6K       489\n",
            "23          1              ST4000DM000        Z302AKQS       492\n",
            "24          1  Hitachi HDS5C4040ALE630  PL2311LAG1L4AC       493\n",
            "25          1     HGST HMS5C4040BLE640  PL2331LAHBAP3J       330\n",
            "26          1              ST4000DM000        Z305D2KE       458\n",
            "27          1              ST4000DM000        W300J8DX       494\n",
            "28          1              ST4000DM000        Z300TXH6       492\n",
            "29          1              ST4000DM000        Z3015SZN       492\n",
            "...       ...                      ...             ...       ...\n",
            "2957        1              ST4000DM000        Z300YNE9       662\n",
            "2958        1              ST4000DM000        Z300KH3R       668\n",
            "2959        1              ST4000DM000        Z300Z2VD       670\n",
            "2960        1              ST4000DM000        Z304JH3K       663\n",
            "2961        1             ST8000NM0055        ZA18BLNT        64\n",
            "2962        1              ST8000DM002        ZA13QZMB       339\n",
            "2963        1            ST10000NM0086        ZA21BZ3S        43\n",
            "2964        1             ST8000NM0055        ZA180ZPA       119\n",
            "2965        1              ST4000DM001        W4J161QA       153\n",
            "2966        1              ST4000DM000        Z3016WC8       672\n",
            "2967        1              ST4000DM000        W300BN3T       678\n",
            "2968        1              ST4000DM001        W4J1MBP1       148\n",
            "2969        1              ST4000DM001        W4J1F0N8       155\n",
            "2970        1              ST4000DM000        W300BNJ9       690\n",
            "2971        1              ST4000DM000        Z300PA4H       694\n",
            "2972        1              ST4000DM000        Z300ZV0V       717\n",
            "2973        1              ST4000DM000        S300YQF1       709\n",
            "2974        1              ST4000DM000        Z3041857       717\n",
            "2975        1              ST4000DM000        Z305D5ME       670\n",
            "2976        1              ST4000DM000        Z300KN10       710\n",
            "2977        1              ST4000DM000        Z3011WAL       720\n",
            "2978        1             ST8000NM0055        ZA16DXLR       284\n",
            "2979        1  Hitachi HDS5C4040ALE630  PL2311LAG1KZPC       721\n",
            "2980        1              ST4000DM000        Z304KBFE       720\n",
            "2981        1             ST8000NM0055        ZA136HJV       190\n",
            "2982        1              ST8000DM002        ZA13R3T3       316\n",
            "2983        1              ST4000DM000        Z3014P0L       724\n",
            "2984        1            ST12000NM0007        ZCH03K2S        46\n",
            "2985        1              ST4000DM000        S301GNPF       725\n",
            "2986        1     HGST HMS5C4040BLE640  PL1331LAHD1JAH       559\n",
            "\n",
            "[2987 rows x 4 columns]\n"
          ],
          "name": "stdout"
        }
      ]
    },
    {
      "cell_type": "code",
      "metadata": {
        "id": "j6QeRyus_FOC",
        "colab_type": "code",
        "outputId": "37cb6329-b93e-4e6a-d4a4-a592630a8133",
        "colab": {
          "base_uri": "https://localhost:8080/",
          "height": 729
        }
      },
      "source": [
        "column_range = list(range(8,2))\n",
        "\n",
        "subset2 = dataFrame.loc[2]\n",
        "print(subset2)\n",
        "print(\"\\n------------------\\n\")\n",
        "print(dataFrame.tail(n=1))\n",
        "\n",
        "print(\"\\n----------------\\n\")\n",
        "print(\"Let's check the types:\\n\")\n",
        "print(type(dataFrame.loc[2]))\n",
        "print(type(dataFrame.tail(n=1)))\n",
        "\n",
        "print(\"\\n--------------------\")\n",
        "print(dataFrame.loc[[0,99,999]])\n",
        "#dataFrame.iloc[0] does the same if you want check it yourself\n",
        "print(dataFrame.iloc[0,0])\n",
        "print(\"\\n--------------------\")\n",
        "print(dataFrame.loc[99,\"model\"])\n",
        "print(dataFrame.iloc[99,5])# notice the difference between loc and iloc\n",
        "print(\"\\n--------------------\")\n",
        "# With next line we can filter columns 5, 6 and 7 and also get rows 0 and 3 \n",
        "print(dataFrame.iloc[[0,3],[5,6,7]]) # or .loc[[0,3],[\"model\",\"serial_number\",\"lifetime\"]]"
      ],
      "execution_count": 8,
      "outputs": [
        {
          "output_type": "stream",
          "text": [
            "@timestamp        2018-01-01T09:57:00.561Z\n",
            "@version                                 1\n",
            "capacity_bytes                 4.00079e+12\n",
            "date              2017-04-28T21:00:00.000Z\n",
            "failure                                  1\n",
            "model                          ST4000DM000\n",
            "serial_number                     Z300GQJ1\n",
            "lifetime                               483\n",
            "Name: 2, dtype: object\n",
            "\n",
            "------------------\n",
            "\n",
            "                    @timestamp  @version  ...   serial_number lifetime\n",
            "2986  2018-02-15T10:35:37.917Z         1  ...  PL1331LAHD1JAH      559\n",
            "\n",
            "[1 rows x 8 columns]\n",
            "\n",
            "----------------\n",
            "\n",
            "Let's check the types:\n",
            "\n",
            "<class 'pandas.core.series.Series'>\n",
            "<class 'pandas.core.frame.DataFrame'>\n",
            "\n",
            "--------------------\n",
            "                   @timestamp  @version  ...  serial_number lifetime\n",
            "0    2018-01-01T09:38:29.732Z         1  ...       ZA11WTAK      299\n",
            "99   2018-01-10T07:37:41.737Z         1  ...       Z304GHJH      310\n",
            "999  2018-01-01T14:02:50.849Z         1  ...       ZA14ERC7        5\n",
            "\n",
            "[3 rows x 8 columns]\n",
            "2018-01-01T09:38:29.732Z\n",
            "\n",
            "--------------------\n",
            "ST4000DM000\n",
            "ST4000DM000\n",
            "\n",
            "--------------------\n",
            "         model serial_number  lifetime\n",
            "0  ST8000DM002      ZA11WTAK       299\n",
            "3  ST8000DM002      ZA13QBYE       159\n"
          ],
          "name": "stdout"
        }
      ]
    },
    {
      "cell_type": "code",
      "metadata": {
        "id": "mZVm0ZcbQwOH",
        "colab_type": "code",
        "outputId": "a2115bc7-ab45-4597-9611-bea64e7f4968",
        "colab": {
          "base_uri": "https://localhost:8080/",
          "height": 1000
        }
      },
      "source": [
        "print(\"Grouped and aggregated calculations\")\n",
        "print(dataFrame2.groupby('year')['lifeExp'].mean())# it groups each row to its year and then we calculate mean on the lifeExp\n",
        "print(\"\\n----------------------\")\n",
        "print(dataFrame2.groupby(['year','continent','country'])[['lifeExp','gdpPercap']].mean())# e.g In 2007 Belgium which is European country \n",
        "                                                                            # had 79.441 life expectancy and 33692.605080 for Gross Domestic \n",
        "                                                                            # Product Per capita\n",
        "    \n",
        "\n",
        "\n",
        "print(dataFrame.groupby('model')['serial_number'].nunique())\n",
        "print(dataFrame.groupby('model')['serial_number'].value_counts)\n",
        "\n",
        "dataFrame2.groupby('year')['lifeExp'].mean().plot()"
      ],
      "execution_count": 9,
      "outputs": [
        {
          "output_type": "stream",
          "text": [
            "Grouped and aggregated calculations\n",
            "year\n",
            "1952    49.057620\n",
            "1957    51.507401\n",
            "1962    53.609249\n",
            "1967    55.678290\n",
            "1972    57.647386\n",
            "1977    59.570157\n",
            "1982    61.533197\n",
            "1987    63.212613\n",
            "1992    64.160338\n",
            "1997    65.014676\n",
            "2002    65.694923\n",
            "2007    67.007423\n",
            "Name: lifeExp, dtype: float64\n",
            "\n",
            "----------------------\n",
            "                                         lifeExp     gdpPercap\n",
            "year continent country                                        \n",
            "1952 Africa    Algeria                    43.077   2449.008185\n",
            "               Angola                     30.015   3520.610273\n",
            "               Benin                      38.223   1062.752200\n",
            "               Botswana                   47.622    851.241141\n",
            "               Burkina Faso               31.975    543.255241\n",
            "               Burundi                    39.031    339.296459\n",
            "               Cameroon                   38.523   1172.667655\n",
            "               Central African Republic   35.463   1071.310713\n",
            "               Chad                       38.092   1178.665927\n",
            "               Comoros                    40.715   1102.990936\n",
            "               Congo, Dem. Rep.           39.143    780.542326\n",
            "               Congo, Rep.                42.111   2125.621418\n",
            "               Cote d'Ivoire              40.477   1388.594732\n",
            "               Djibouti                   34.812   2669.529475\n",
            "               Egypt                      41.893   1418.822445\n",
            "               Equatorial Guinea          34.482    375.643123\n",
            "               Eritrea                    35.928    328.940557\n",
            "               Ethiopia                   34.078    362.146280\n",
            "               Gabon                      37.003   4293.476475\n",
            "               Gambia                     30.000    485.230659\n",
            "               Ghana                      43.149    911.298937\n",
            "               Guinea                     33.609    510.196492\n",
            "               Guinea-Bissau              32.500    299.850319\n",
            "               Kenya                      42.270    853.540919\n",
            "               Lesotho                    42.138    298.846212\n",
            "               Liberia                    38.480    575.572996\n",
            "               Libya                      42.723   2387.548060\n",
            "               Madagascar                 36.681   1443.011715\n",
            "               Malawi                     36.256    369.165080\n",
            "               Mali                       33.685    452.336981\n",
            "...                                          ...           ...\n",
            "2007 Europe    Belgium                    79.441  33692.605080\n",
            "               Bosnia and Herzegovina     74.852   7446.298803\n",
            "               Bulgaria                   73.005  10680.792820\n",
            "               Croatia                    75.748  14619.222720\n",
            "               Czech Republic             76.486  22833.308510\n",
            "               Denmark                    78.332  35278.418740\n",
            "               Finland                    79.313  33207.084400\n",
            "               France                     80.657  30470.016700\n",
            "               Germany                    79.406  32170.374420\n",
            "               Greece                     79.483  27538.411880\n",
            "               Hungary                    73.338  18008.944440\n",
            "               Iceland                    81.757  36180.789190\n",
            "               Ireland                    78.885  40675.996350\n",
            "               Italy                      80.546  28569.719700\n",
            "               Montenegro                 74.543   9253.896111\n",
            "               Netherlands                79.762  36797.933320\n",
            "               Norway                     80.196  49357.190170\n",
            "               Poland                     75.563  15389.924680\n",
            "               Portugal                   78.098  20509.647770\n",
            "               Romania                    72.476  10808.475610\n",
            "               Serbia                     74.002   9786.534714\n",
            "               Slovak Republic            74.663  18678.314350\n",
            "               Slovenia                   77.926  25768.257590\n",
            "               Spain                      80.941  28821.063700\n",
            "               Sweden                     80.884  33859.748350\n",
            "               Switzerland                81.701  37506.419070\n",
            "               Turkey                     71.777   8458.276384\n",
            "               United Kingdom             79.425  33203.261280\n",
            "     Oceania   Australia                  81.235  34435.367440\n",
            "               New Zealand                80.204  25185.009110\n",
            "\n",
            "[1704 rows x 2 columns]\n",
            "model\n",
            "HGST HDS5C4040ALE630          2\n",
            "HGST HMS5C4040ALE640         53\n",
            "HGST HMS5C4040BLE640        123\n",
            "HGST HUS726040ALE610          1\n",
            "Hitachi HDS5C3030ALA630      49\n",
            "Hitachi HDS5C4040ALE630      21\n",
            "Hitachi HDS722020ALA330      43\n",
            "Hitachi HDS723030ALA640      26\n",
            "ST10000NM0086                 3\n",
            "ST12000NM0007                17\n",
            "ST250LM004 HN                 5\n",
            "ST250LT007                    4\n",
            "ST31500541AS                  3\n",
            "ST3160316AS                   2\n",
            "ST3160318AS                   7\n",
            "ST320LT007                   63\n",
            "ST3500320AS                   1\n",
            "ST4000DM000                2001\n",
            "ST4000DM001                  33\n",
            "ST4000DM005                   1\n",
            "ST4000DX000                  71\n",
            "ST500LM012 HN                25\n",
            "ST6000DX000                  29\n",
            "ST8000DM002                 141\n",
            "ST8000NM0055                 88\n",
            "ST9250315AS                   4\n",
            "ST9320325AS                   1\n",
            "TOSHIBA DT01ACA300            2\n",
            "TOSHIBA MD04ABA400V           1\n",
            "TOSHIBA MD04ABA500V           1\n",
            "TOSHIBA MQ01ABF050           11\n",
            "TOSHIBA MQ01ABF050M           1\n",
            "WDC WD10EACS                  2\n",
            "WDC WD10EADS                  7\n",
            "WDC WD1600AAJB                4\n",
            "WDC WD1600AAJS                7\n",
            "WDC WD1600BPVT                1\n",
            "WDC WD20EFRX                  6\n",
            "WDC WD30EFRX                 43\n",
            "WDC WD3200AAJB                1\n",
            "WDC WD3200BEKT                1\n",
            "WDC WD3200BEKX                2\n",
            "WDC WD40EFRX                  2\n",
            "WDC WD5000BPKT                1\n",
            "WDC WD5000LPCX                1\n",
            "WDC WD5000LPVX               10\n",
            "WDC WD5002ABYS                2\n",
            "WDC WD60EFRX                 34\n",
            "WDC WD800AAJB                 2\n",
            "WDC WD800AAJS                14\n",
            "WDC WD800BB                   5\n",
            "WDC WD800JB                   4\n",
            "WDC WD800JD                   1\n",
            "WDC WD800LB                   1\n",
            "Name: serial_number, dtype: int64\n",
            "<bound method SeriesGroupBy.value_counts of <pandas.core.groupby.generic.SeriesGroupBy object at 0x7f7b60a35780>>\n"
          ],
          "name": "stdout"
        },
        {
          "output_type": "execute_result",
          "data": {
            "text/plain": [
              "<matplotlib.axes._subplots.AxesSubplot at 0x7f7b60a356d8>"
            ]
          },
          "metadata": {
            "tags": []
          },
          "execution_count": 9
        },
        {
          "output_type": "display_data",
          "data": {
            "image/png": "[encoded data removed]",
            "text/plain": [
              "<Figure size 432x288 with 1 Axes>"
            ]
          },
          "metadata": {
            "tags": []
          }
        }
      ]
    },
    {
      "cell_type": "code",
      "metadata": {
        "id": "rbUdSc0UW_Mh",
        "colab_type": "code",
        "outputId": "398e8d36-85e3-4916-db66-02606420b349",
        "colab": {
          "base_uri": "https://localhost:8080/",
          "height": 1000
        }
      },
      "source": [
        "# LET'S USE SOME DATA STRUCTURE IN PANDAS\n",
        "print(\"Data Structure in pandas\")\n",
        "series = pd.Series(['Data',1])\n",
        "print(series)\n",
        "\n",
        "print(\"-------------------------------------\")\n",
        "series = pd.Series(['Data',1],index=['frist',2])\n",
        "print(series)\n",
        "\n",
        "print(\"-------------------------------------\")\n",
        "df = pd.DataFrame({\"Data\":[1,2],\"value\":[1531345,35435435]})\n",
        "print(df)\n",
        "\n",
        "print(\"-------------------------------------\")\n",
        "df = pd.DataFrame(data={\"Data\":[1,2],\"value\":[1531345,35435435]},index=['first row','second row'],columns=['value','Data'])\n",
        "print(df)\n",
        "\n",
        "print(\"-------------------------------------\")\n",
        "first_row = df.loc['first row']\n",
        "print(type(first_row))\n",
        "print(first_row)\n",
        "print(\"\\n### first row using index attr\")\n",
        "print(first_row.index)\n",
        "print(\"### first row using values attr\")\n",
        "print(first_row.values)\n",
        "print(\"### first row using keys() method\")\n",
        "print(first_row.keys())\n",
        "print(\"######\")\n",
        "print(first_row.index[0])\n",
        "print(\"######\")\n",
        "print(first_row.keys()[1])\n",
        "print(\"######\")\n",
        "\n",
        "print(\"\\n-------------------------------------\")\n",
        "value = df['value']\n",
        "print(value)\n",
        "print(\"########\")\n",
        "data = df['Data']\n",
        "print(data)\n",
        "print(\"########\")\n",
        "print(\"data mean: \",data.mean())\n",
        "print(\"########\")\n",
        "print(\"data minimum: \", data.min())\n",
        "print(\"########\")\n",
        "print(\"data maximum: \", data.max())\n",
        "print(\"########\")\n",
        "print(\"data standard deviation: \",data.std())\n",
        "print(\"########\")\n",
        "print(\"data and values concatenation: \\n\", data.append(value))\n",
        "print(\"########\")\n",
        "print(\"data and value correlation: \", data.corr(value))\n",
        "print(\"########\")\n",
        "print(\"data and value covariance: \", data.cov(value))\n",
        "print(\"########\")\n",
        "print(\"data description: \\n\", data.describe())\n",
        "print(\"########\")\n",
        "print(\"data drop duplicate: \\n\", data.drop_duplicates())\n",
        "print(\"########\")\n",
        "print(\"data histogram: \", data.hist())\n",
        "print(\"########\")\n",
        "print(\"if data and value are equal : \", data.equals(value))\n",
        "print(\"########\")\n",
        "print(\"data values: \", data.get_values())\n",
        "print(\"########\")\n",
        "print(\"data median: \", data.median())\n",
        "print(\"########\")\n",
        "print(\"data mode: \\n\", data.mode())\n",
        "print(\"########\")\n",
        "print(\"data quantile :\", data.quantile())\n",
        "print(\"########\")\n",
        "print(\"data replace: \\n\", data.replace())\n",
        "print(\"########\")\n",
        "print(\"data sample: \", data.sample())\n",
        "print(\"########\")\n",
        "print(\"data sort: \", data.sort_values())\n",
        "print(\"########\")\n",
        "print(\"data transpose: \\n\", data.transpose()) \n",
        "print(\"########\")\n",
        "print(\"data unique : \", data.unique())\n",
        "print(\"########\")\n",
        "print(\"convert data to DataFrame: \\n\", data.to_frame())\n",
        "print(\"########\")\n"
      ],
      "execution_count": 10,
      "outputs": [
        {
          "output_type": "stream",
          "text": [
            "Data Structure in pandas\n",
            "0    Data\n",
            "1       1\n",
            "dtype: object\n",
            "-------------------------------------\n",
            "frist    Data\n",
            "2           1\n",
            "dtype: object\n",
            "-------------------------------------\n",
            "   Data     value\n",
            "0     1   1531345\n",
            "1     2  35435435\n",
            "-------------------------------------\n",
            "               value  Data\n",
            "first row    1531345     1\n",
            "second row  35435435     2\n",
            "-------------------------------------\n",
            "<class 'pandas.core.series.Series'>\n",
            "value    1531345\n",
            "Data           1\n",
            "Name: first row, dtype: int64\n",
            "\n",
            "### first row using index attr\n",
            "Index(['value', 'Data'], dtype='object')\n",
            "### first row using values attr\n",
            "[1531345       1]\n",
            "### first row using keys() method\n",
            "Index(['value', 'Data'], dtype='object')\n",
            "######\n",
            "value\n",
            "######\n",
            "Data\n",
            "######\n",
            "\n",
            "-------------------------------------\n",
            "first row      1531345\n",
            "second row    35435435\n",
            "Name: value, dtype: int64\n",
            "########\n",
            "first row     1\n",
            "second row    2\n",
            "Name: Data, dtype: int64\n",
            "########\n",
            "data mean:  1.5\n",
            "########\n",
            "data minimum:  1\n",
            "########\n",
            "data maximum:  2\n",
            "########\n",
            "data standard deviation:  0.7071067811865476\n",
            "########\n",
            "data and values concatenation: \n",
            " first row            1\n",
            "second row           2\n",
            "first row      1531345\n",
            "second row    35435435\n",
            "dtype: int64\n",
            "########\n",
            "data and value correlation:  0.9999999999999999\n",
            "########\n",
            "data and value covariance:  16952045.0\n",
            "########\n",
            "data description: \n",
            " count    2.000000\n",
            "mean     1.500000\n",
            "std      0.707107\n",
            "min      1.000000\n",
            "25%      1.250000\n",
            "50%      1.500000\n",
            "75%      1.750000\n",
            "max      2.000000\n",
            "Name: Data, dtype: float64\n",
            "########\n",
            "data drop duplicate: \n",
            " first row     1\n",
            "second row    2\n",
            "Name: Data, dtype: int64\n",
            "########\n",
            "data histogram:  AxesSubplot(0.125,0.125;0.775x0.755)\n",
            "########\n",
            "if data and value are equal :  False\n",
            "########\n",
            "data values:  [1 2]\n",
            "########\n",
            "data median:  1.5\n",
            "########\n",
            "data mode: \n",
            " 0    1\n",
            "1    2\n",
            "dtype: int64\n",
            "########\n",
            "data quantile : 1.5\n",
            "########\n",
            "data replace: \n",
            " first row     1\n",
            "second row    2\n",
            "Name: Data, dtype: int64\n",
            "########\n",
            "data sample:  second row    2\n",
            "Name: Data, dtype: int64\n",
            "########\n",
            "data sort:  first row     1\n",
            "second row    2\n",
            "Name: Data, dtype: int64\n",
            "########\n",
            "data transpose: \n",
            " first row     1\n",
            "second row    2\n",
            "Name: Data, dtype: int64\n",
            "########\n",
            "data unique :  [1 2]\n",
            "########\n",
            "convert data to DataFrame: \n",
            "             Data\n",
            "first row      1\n",
            "second row     2\n",
            "########\n"
          ],
          "name": "stdout"
        },
        {
          "output_type": "display_data",
          "data": {
            "image/png": "[encoded data removed]",
            "text/plain": [
              "<Figure size 432x288 with 1 Axes>"
            ]
          },
          "metadata": {
            "tags": []
          }
        }
      ]
    },
    {
      "cell_type": "code",
      "metadata": {
        "id": "Txh24ZvQ26UD",
        "colab_type": "code",
        "outputId": "1e6fddda-b481-4d96-b35e-064a7b88c518",
        "colab": {
          "base_uri": "https://localhost:8080/",
          "height": 1000
        }
      },
      "source": [
        "print(\"\\n-------------------------------------\")\n",
        "lifetime = dataFrame['lifetime']\n",
        "print(\"\\nlifetime summary :\\n\",lifetime.head())\n",
        "print(\"\\nlifetime mean: \", lifetime.mean())\n",
        "print(\"\\nlifetime description: \\n\", lifetime.describe())\n",
        "print(\"\\n-------------------------------------\")\n",
        "print(\"\\nlifetime greater than 500 :\\n\", lifetime[lifetime > 500] )\n",
        "print(\"\\nlifetime greater than mean:\\n\", lifetime[lifetime > lifetime.mean()])\n",
        "print(\"\\nBoolean expression if current row has value greater than mean :\\n\", lifetime > lifetime.mean())\n",
        "print(\"\\nLet's see what is type of this expression: \" , type( lifetime > lifetime.mean() ))\n",
        "print(\"\\n-------------------------------------\")\n",
        "manual_bool_values = [True, True, True, False, False]\n",
        "print(lifetime.head()[manual_bool_values]) # if you do not choose head() you will get error because we specified 5 row however we have alot \n",
        "                                           # more than that. so we are saying on head of lifetime series just first three rows are True and \n",
        "                                           # we are selecting them and return them as you can see in the output\n",
        "print(\"\\n-------------------------------------\")\n",
        "print(\"let's see some operations. Notice that two vector should have same dimension. I just do it on the head() to have a clean output.\")\n",
        "print(\"\\n\\n\")\n",
        "print(lifetime.head() + lifetime.head())\n",
        "print(\"\\n\\n\")\n",
        "print(lifetime.head() * lifetime.head())\n",
        "print(\"\\n\\n\")\n",
        "print(lifetime.head() + 100)\n",
        "print(\"\\n\\n\")\n",
        "print(lifetime.head() * 2)\n",
        "print(\"\\n\\n\")\n",
        "print(lifetime.head() + pd.Series([1, 100]))\n",
        "\n",
        "print(\"\\n-------------------------------------\")\n",
        "print(\"Note: the above last line of code won't work for other type of data: \\n\")\n",
        "# import numpy as np\n",
        "# print(lifetime + np.array([1, 100]))"
      ],
      "execution_count": 11,
      "outputs": [
        {
          "output_type": "stream",
          "text": [
            "\n",
            "-------------------------------------\n",
            "\n",
            "lifetime summary :\n",
            " 0    299\n",
            "1    473\n",
            "2    483\n",
            "3    159\n",
            "4    477\n",
            "Name: lifetime, dtype: int64\n",
            "\n",
            "lifetime mean:  308.5587546032809\n",
            "\n",
            "lifetime description: \n",
            " count    2987.000000\n",
            "mean      308.558755\n",
            "std       210.714960\n",
            "min         0.000000\n",
            "25%       119.000000\n",
            "50%       290.000000\n",
            "75%       480.000000\n",
            "max       730.000000\n",
            "Name: lifetime, dtype: float64\n",
            "\n",
            "-------------------------------------\n",
            "\n",
            "lifetime greater than 500 :\n",
            " 31      518\n",
            "32      519\n",
            "33      519\n",
            "34      510\n",
            "35      510\n",
            "37      511\n",
            "39      502\n",
            "40      506\n",
            "42      520\n",
            "43      517\n",
            "44      534\n",
            "45      535\n",
            "48      531\n",
            "49      531\n",
            "50      536\n",
            "52      527\n",
            "53      523\n",
            "54      528\n",
            "55      507\n",
            "56      501\n",
            "57      501\n",
            "58      538\n",
            "60      537\n",
            "61      538\n",
            "62      538\n",
            "64      541\n",
            "65      531\n",
            "66      533\n",
            "251     542\n",
            "269     607\n",
            "       ... \n",
            "2941    651\n",
            "2943    598\n",
            "2945    650\n",
            "2946    648\n",
            "2947    660\n",
            "2948    501\n",
            "2950    669\n",
            "2951    669\n",
            "2953    666\n",
            "2954    649\n",
            "2956    662\n",
            "2957    662\n",
            "2958    668\n",
            "2959    670\n",
            "2960    663\n",
            "2966    672\n",
            "2967    678\n",
            "2970    690\n",
            "2971    694\n",
            "2972    717\n",
            "2973    709\n",
            "2974    717\n",
            "2975    670\n",
            "2976    710\n",
            "2977    720\n",
            "2979    721\n",
            "2980    720\n",
            "2983    724\n",
            "2985    725\n",
            "2986    559\n",
            "Name: lifetime, Length: 678, dtype: int64\n",
            "\n",
            "lifetime greater than mean:\n",
            " 1       473\n",
            "2       483\n",
            "4       477\n",
            "5       481\n",
            "6       484\n",
            "7       485\n",
            "9       361\n",
            "10      446\n",
            "11      471\n",
            "13      463\n",
            "14      428\n",
            "15      471\n",
            "16      462\n",
            "17      416\n",
            "18      468\n",
            "19      470\n",
            "20      460\n",
            "21      490\n",
            "22      489\n",
            "23      492\n",
            "24      493\n",
            "25      330\n",
            "26      458\n",
            "27      494\n",
            "28      492\n",
            "29      492\n",
            "30      351\n",
            "31      518\n",
            "32      519\n",
            "33      519\n",
            "       ... \n",
            "2945    650\n",
            "2946    648\n",
            "2947    660\n",
            "2948    501\n",
            "2950    669\n",
            "2951    669\n",
            "2953    666\n",
            "2954    649\n",
            "2956    662\n",
            "2957    662\n",
            "2958    668\n",
            "2959    670\n",
            "2960    663\n",
            "2962    339\n",
            "2966    672\n",
            "2967    678\n",
            "2970    690\n",
            "2971    694\n",
            "2972    717\n",
            "2973    709\n",
            "2974    717\n",
            "2975    670\n",
            "2976    710\n",
            "2977    720\n",
            "2979    721\n",
            "2980    720\n",
            "2982    316\n",
            "2983    724\n",
            "2985    725\n",
            "2986    559\n",
            "Name: lifetime, Length: 1414, dtype: int64\n",
            "\n",
            "Boolean expression if current row has value greater than mean :\n",
            " 0       False\n",
            "1        True\n",
            "2        True\n",
            "3       False\n",
            "4        True\n",
            "5        True\n",
            "6        True\n",
            "7        True\n",
            "8       False\n",
            "9        True\n",
            "10       True\n",
            "11       True\n",
            "12      False\n",
            "13       True\n",
            "14       True\n",
            "15       True\n",
            "16       True\n",
            "17       True\n",
            "18       True\n",
            "19       True\n",
            "20       True\n",
            "21       True\n",
            "22       True\n",
            "23       True\n",
            "24       True\n",
            "25       True\n",
            "26       True\n",
            "27       True\n",
            "28       True\n",
            "29       True\n",
            "        ...  \n",
            "2957     True\n",
            "2958     True\n",
            "2959     True\n",
            "2960     True\n",
            "2961    False\n",
            "2962     True\n",
            "2963    False\n",
            "2964    False\n",
            "2965    False\n",
            "2966     True\n",
            "2967     True\n",
            "2968    False\n",
            "2969    False\n",
            "2970     True\n",
            "2971     True\n",
            "2972     True\n",
            "2973     True\n",
            "2974     True\n",
            "2975     True\n",
            "2976     True\n",
            "2977     True\n",
            "2978    False\n",
            "2979     True\n",
            "2980     True\n",
            "2981    False\n",
            "2982     True\n",
            "2983     True\n",
            "2984    False\n",
            "2985     True\n",
            "2986     True\n",
            "Name: lifetime, Length: 2987, dtype: bool\n",
            "\n",
            "Let's see what is type of this expression:  <class 'pandas.core.series.Series'>\n",
            "\n",
            "-------------------------------------\n",
            "0    299\n",
            "1    473\n",
            "2    483\n",
            "Name: lifetime, dtype: int64\n",
            "\n",
            "-------------------------------------\n",
            "let's see some operations. Notice that two vector should have same dimension. I just do it on the head() to have a clean output.\n",
            "\n",
            "\n",
            "\n",
            "0    598\n",
            "1    946\n",
            "2    966\n",
            "3    318\n",
            "4    954\n",
            "Name: lifetime, dtype: int64\n",
            "\n",
            "\n",
            "\n",
            "0     89401\n",
            "1    223729\n",
            "2    233289\n",
            "3     25281\n",
            "4    227529\n",
            "Name: lifetime, dtype: int64\n",
            "\n",
            "\n",
            "\n",
            "0    399\n",
            "1    573\n",
            "2    583\n",
            "3    259\n",
            "4    577\n",
            "Name: lifetime, dtype: int64\n",
            "\n",
            "\n",
            "\n",
            "0    598\n",
            "1    946\n",
            "2    966\n",
            "3    318\n",
            "4    954\n",
            "Name: lifetime, dtype: int64\n",
            "\n",
            "\n",
            "\n",
            "0    300.0\n",
            "1    573.0\n",
            "2      NaN\n",
            "3      NaN\n",
            "4      NaN\n",
            "dtype: float64\n",
            "\n",
            "-------------------------------------\n",
            "Note: the above last line of code won't work for other type of data: \n",
            "\n"
          ],
          "name": "stdout"
        }
      ]
    },
    {
      "cell_type": "code",
      "metadata": {
        "id": "D8vuEipr74S4",
        "colab_type": "code",
        "outputId": "e973ddf7-b538-4ad7-f520-7b094bdfd8d4",
        "colab": {
          "base_uri": "https://localhost:8080/",
          "height": 260
        }
      },
      "source": [
        "print(\"\\n-------------------------------------\")\n",
        "reverse_lifetime = lifetime.head().sort_index(ascending=False)\n",
        "print(reverse_lifetime)\n",
        "print(lifetime.head() + reverse_lifetime.head()) # guess what happend!"
      ],
      "execution_count": 12,
      "outputs": [
        {
          "output_type": "stream",
          "text": [
            "\n",
            "-------------------------------------\n",
            "4    477\n",
            "3    159\n",
            "2    483\n",
            "1    473\n",
            "0    299\n",
            "Name: lifetime, dtype: int64\n",
            "0    598\n",
            "1    946\n",
            "2    966\n",
            "3    318\n",
            "4    954\n",
            "Name: lifetime, dtype: int64\n"
          ],
          "name": "stdout"
        }
      ]
    },
    {
      "cell_type": "code",
      "metadata": {
        "id": "kIwNRExh9Civ",
        "colab_type": "code",
        "outputId": "c30e5be0-9e88-433c-a510-3bf4cd68af22",
        "colab": {
          "base_uri": "https://localhost:8080/",
          "height": 352
        }
      },
      "source": [
        "print(\" Data Frame \")\n",
        "print(\"\\n-------------------------------------\")\n",
        "print(dataFrame[dataFrame['lifetime'] > dataFrame['lifetime'].mean()].head() )\n",
        "### below you can see some selection in data frame ###\n",
        "dataFrame['model']\n",
        "dataFrame[['model', 'serial_number', 'lifetime']]\n",
        "dataFrame.loc[2] # select row with name 2(which is row 2 in table)\n",
        "dataFrame.loc[[2,47,250,10,333]]\n",
        "dataFrame.iloc[2] # select row with number 2. Since we don't have name as we do for column for row .loc() and .iloc() have same form\n",
        "dataFrame.iloc[[2,47,250,10,333]]\n",
        "print(\"next line is a nice way of selecting rows\")\n",
        "dataFrame[0:5:2] #[ start index : stop index : step]"
      ],
      "execution_count": 13,
      "outputs": [
        {
          "output_type": "stream",
          "text": [
            " Data Frame \n",
            "\n",
            "-------------------------------------\n",
            "                 @timestamp  @version  ...   serial_number lifetime\n",
            "1  2018-01-01T09:38:01.463Z         1  ...  S2T0J9ACB00405      473\n",
            "2  2018-01-01T09:57:00.561Z         1  ...        Z300GQJ1      483\n",
            "4  2018-01-01T09:49:00.954Z         1  ...        Z3040KMY      477\n",
            "5  2018-01-01T09:54:40.751Z         1  ...        W300DD6P      481\n",
            "6  2018-01-01T09:59:25.231Z         1  ...        S300XBP0      484\n",
            "\n",
            "[5 rows x 8 columns]\n",
            "next line is a nice way of selecting rows\n"
          ],
          "name": "stdout"
        },
        {
          "output_type": "execute_result",
          "data": {
            "text/html": [
              "<div>\n",
              "<style scoped>\n",
              "    .dataframe tbody tr th:only-of-type {\n",
              "        vertical-align: middle;\n",
              "    }\n",
              "\n",
              "    .dataframe tbody tr th {\n",
              "        vertical-align: top;\n",
              "    }\n",
              "\n",
              "    .dataframe thead th {\n",
              "        text-align: right;\n",
              "    }\n",
              "</style>\n",
              "<table border=\"1\" class=\"dataframe\">\n",
              "  <thead>\n",
              "    <tr style=\"text-align: right;\">\n",
              "      <th></th>\n",
              "      <th>@timestamp</th>\n",
              "      <th>@version</th>\n",
              "      <th>capacity_bytes</th>\n",
              "      <th>date</th>\n",
              "      <th>failure</th>\n",
              "      <th>model</th>\n",
              "      <th>serial_number</th>\n",
              "      <th>lifetime</th>\n",
              "    </tr>\n",
              "  </thead>\n",
              "  <tbody>\n",
              "    <tr>\n",
              "      <th>0</th>\n",
              "      <td>2018-01-01T09:38:29.732Z</td>\n",
              "      <td>1</td>\n",
              "      <td>8.001563e+12</td>\n",
              "      <td>2017-04-18T21:00:00.000Z</td>\n",
              "      <td>1</td>\n",
              "      <td>ST8000DM002</td>\n",
              "      <td>ZA11WTAK</td>\n",
              "      <td>299</td>\n",
              "    </tr>\n",
              "    <tr>\n",
              "      <th>2</th>\n",
              "      <td>2018-01-01T09:57:00.561Z</td>\n",
              "      <td>1</td>\n",
              "      <td>4.000787e+12</td>\n",
              "      <td>2017-04-28T21:00:00.000Z</td>\n",
              "      <td>1</td>\n",
              "      <td>ST4000DM000</td>\n",
              "      <td>Z300GQJ1</td>\n",
              "      <td>483</td>\n",
              "    </tr>\n",
              "    <tr>\n",
              "      <th>4</th>\n",
              "      <td>2018-01-01T09:49:00.954Z</td>\n",
              "      <td>1</td>\n",
              "      <td>4.000787e+12</td>\n",
              "      <td>2017-04-22T21:00:00.000Z</td>\n",
              "      <td>1</td>\n",
              "      <td>ST4000DM000</td>\n",
              "      <td>Z3040KMY</td>\n",
              "      <td>477</td>\n",
              "    </tr>\n",
              "  </tbody>\n",
              "</table>\n",
              "</div>"
            ],
            "text/plain": [
              "                 @timestamp  @version  ...  serial_number lifetime\n",
              "0  2018-01-01T09:38:29.732Z         1  ...       ZA11WTAK      299\n",
              "2  2018-01-01T09:57:00.561Z         1  ...       Z300GQJ1      483\n",
              "4  2018-01-01T09:49:00.954Z         1  ...       Z3040KMY      477\n",
              "\n",
              "[3 rows x 8 columns]"
            ]
          },
          "metadata": {
            "tags": []
          },
          "execution_count": 13
        }
      ]
    },
    {
      "cell_type": "code",
      "metadata": {
        "id": "A-87OH4_SUQi",
        "colab_type": "code",
        "outputId": "21fe72ef-ce15-4cdf-9904-2fe7b0b48a40",
        "colab": {
          "base_uri": "https://localhost:8080/",
          "height": 260
        }
      },
      "source": [
        "print(\"\\n-------------------------------------\")\n",
        "timestamp = pd.to_datetime(dataFrame['@timestamp'],format='%Y-%m-%d')\n",
        "print(timestamp.head())\n",
        "# create a new column for date for dataFrame2\n",
        "print(\"dataFrame2 columns before add date column: \\n\",dataFrame2.columns)\n",
        "print(dataFrame2.shape)\n",
        "dataFrame2['date'] = timestamp\n",
        "print(\"dataFrame2 columns after add date column: \\n\",dataFrame2.columns)\n",
        "print(dataFrame2.shape)\n",
        "# dataFrame2.drop(axis=1, columns='date',inplace=True) # using this line help you to drop the date column which we recently added"
      ],
      "execution_count": 14,
      "outputs": [
        {
          "output_type": "stream",
          "text": [
            "\n",
            "-------------------------------------\n",
            "0   2018-01-01 09:38:29.732000+00:00\n",
            "1   2018-01-01 09:38:01.463000+00:00\n",
            "2   2018-01-01 09:57:00.561000+00:00\n",
            "3   2018-01-01 09:45:45.712000+00:00\n",
            "4   2018-01-01 09:49:00.954000+00:00\n",
            "Name: @timestamp, dtype: datetime64[ns, UTC]\n",
            "dataFrame2 columns before add date column: \n",
            " Index(['country', 'continent', 'year', 'lifeExp', 'pop', 'gdpPercap'], dtype='object')\n",
            "(1704, 6)\n",
            "dataFrame2 columns after add date column: \n",
            " Index(['country', 'continent', 'year', 'lifeExp', 'pop', 'gdpPercap', 'date'], dtype='object')\n",
            "(1704, 7)\n"
          ],
          "name": "stdout"
        }
      ]
    },
    {
      "cell_type": "code",
      "metadata": {
        "id": "bOlNUXz_WKZI",
        "colab_type": "code",
        "outputId": "dce45488-9c40-4bfb-f17f-bca8e505eded",
        "colab": {
          "base_uri": "https://localhost:8080/",
          "height": 278
        }
      },
      "source": [
        "print(\"\\n-------------------------------------\")\n",
        "import random\n",
        "random.seed(42)\n",
        "random.shuffle(dataFrame2['date'])\n",
        "print(dataFrame2.head())"
      ],
      "execution_count": 15,
      "outputs": [
        {
          "output_type": "stream",
          "text": [
            "\n",
            "-------------------------------------\n"
          ],
          "name": "stdout"
        },
        {
          "output_type": "stream",
          "text": [
            "/usr/lib/python3.6/random.py:277: SettingWithCopyWarning: \n",
            "A value is trying to be set on a copy of a slice from a DataFrame\n",
            "\n",
            "See the caveats in the documentation: http://pandas.pydata.org/pandas-docs/stable/indexing.html#indexing-view-versus-copy\n",
            "  x[i], x[j] = x[j], x[i]\n"
          ],
          "name": "stderr"
        },
        {
          "output_type": "stream",
          "text": [
            "       country continent  ...   gdpPercap                             date\n",
            "0  Afghanistan      Asia  ...  779.445314 2018-01-10 07:22:54.229000+00:00\n",
            "1  Afghanistan      Asia  ...  820.853030 2018-01-10 07:24:41.552000+00:00\n",
            "2  Afghanistan      Asia  ...  853.100710 2018-01-12 12:26:55.180000+00:00\n",
            "3  Afghanistan      Asia  ...  836.197138 2018-01-10 06:57:33.074000+00:00\n",
            "4  Afghanistan      Asia  ...  739.981106 2018-01-01 13:52:15.751000+00:00\n",
            "\n",
            "[5 rows x 7 columns]\n"
          ],
          "name": "stdout"
        }
      ]
    },
    {
      "cell_type": "code",
      "metadata": {
        "id": "9aJwAfa9mguJ",
        "colab_type": "code",
        "colab": {
          "base_uri": "https://localhost:8080/",
          "height": 69
        },
        "outputId": "54a47153-99ca-4b48-8a83-73f6fde2468e"
      },
      "source": [
        "print(\"\\n-------------------------------------\")\n",
        "print('Exporting and Importing Data')\n",
        "names = dataFrame2['country']\n",
        "### Using following line to save as .pickle file. there is no difference between Series and DataFrame\n",
        "# names.to_pickle(\"../output.pickle\")\n",
        "# dataFrame2.to_pickle(\"../output.pickle\")\n",
        "### In order to read a pickle file use following line. Again no difference between Series and DataFrame\n",
        "# dataFrame_from_pickle = pd.read_pickle(\"../output.pickle\")\n",
        "### .p , .pkl or .pickle all are pickle extension\n",
        "\n",
        "### Using following line to save as .csv\n",
        "# names.to_csv(\"../outpu.csvt\")\n",
        "# dataFrame2.to_csv(\"../output.csv\", sep='\\t', index=False) ## sep argument is delimiter. \\t means separate columns by TAB. \n",
        "                                                                                          #  index=False means do not keep row labels\n",
        "### In order to save Series as excel file, first we need to convert it to DataFrame\n",
        "# names_df = names.to_frame()\n",
        "# names_df.to_excel(\"../output.xls\") ## we can use .xlsx as well\n",
        "# dataFrame2.to_excel(\"../output.xls\", sheet_name=\"countries\", index=False)\n",
        "### these three were most common dataformats. Read pandas documentation for more\n"
      ],
      "execution_count": 49,
      "outputs": [
        {
          "output_type": "stream",
          "text": [
            "\n",
            "-------------------------------------\n",
            "Exporting and Importing Data\n"
          ],
          "name": "stdout"
        }
      ]
    },
    {
      "cell_type": "code",
      "metadata": {
        "id": "9c9wwOXHzvBo",
        "colab_type": "code",
        "colab": {
          "base_uri": "https://localhost:8080/",
          "height": 373
        },
        "outputId": "e9bda60e-a742-42a7-ce36-966dad3ad4d7"
      },
      "source": [
        "import seaborn as sns\n",
        "import matplotlib.pyplot as plt\n",
        "anscombe = sns.load_dataset(\"anscombe\")\n",
        "print(anscombe.head())\n",
        "dataset_1 = anscombe[anscombe['dataset']== 'I']\n",
        "# plt.plot(dataset_1['x'], dataset_1['y']) # will draw line however below line will draw circles instead\n",
        "plt.plot(dataset_1['x'], dataset_1['y'], 'o')\n",
        "dataset_2 = anscombe[anscombe['dataset'] == 'II']\n",
        "dataset_3 = anscombe[anscombe['dataset'] == 'III']\n",
        "dataset_4 = anscombe[anscombe['dataset'] == 'IV']"
      ],
      "execution_count": 29,
      "outputs": [
        {
          "output_type": "stream",
          "text": [
            "  dataset     x     y\n",
            "0       I  10.0  8.04\n",
            "1       I   8.0  6.95\n",
            "2       I  13.0  7.58\n",
            "3       I   9.0  8.81\n",
            "4       I  11.0  8.33\n"
          ],
          "name": "stdout"
        },
        {
          "output_type": "display_data",
          "data": {
            "image/png": "[encoded data removed]",
            "text/plain": [
              "<Figure size 432x288 with 1 Axes>"
            ]
          },
          "metadata": {
            "tags": []
          }
        }
      ]
    },
    {
      "cell_type": "code",
      "metadata": {
        "id": "STte2-so1t2z",
        "colab_type": "code",
        "colab": {
          "base_uri": "https://localhost:8080/",
          "height": 694
        },
        "outputId": "bf402ff4-eaa0-4987-a769-f92b3e801a1d"
      },
      "source": [
        "# we have 4 sets of data, each has 2 continues variable. we want to plot them together instead of doing it separately for each one\n",
        "figure = plt.figure(figsize=(10, 10)) # if you don't set figsize all four plots will be so close together\n",
        "axes_1 = figure.add_subplot(2, 2, 1) # subplot has 2 rows, 2 columns, plot location is 1 and same for other three except than location\n",
        "axes_2 = figure.add_subplot(2, 2, 2)\n",
        "axes_3 = figure.add_subplot(2, 2, 3)\n",
        "axes_4 = figure.add_subplot(2, 2, 4)\n",
        "\n",
        "axes_1.plot(dataset_1['x'], dataset_1['y'], 'o')\n",
        "axes_2.plot(dataset_2['x'], dataset_2['y'], 'o')\n",
        "axes_3.plot(dataset_3['x'], dataset_3['y'], 'o')\n",
        "axes_4.plot(dataset_4['x'], dataset_4['y'], 'o')\n",
        "\n",
        "axes_1.set_title(\"dataset_1\")\n",
        "axes_2.set_title(\"dataset_2\")\n",
        "axes_3.set_title(\"dataset_3\")\n",
        "axes_4.set_title(\"dataset_4\")\n",
        "\n",
        "axes_1.set_xlabel(\"x\")\n",
        "axes_1.set_ylabel(\"y\")\n",
        "\n",
        "axes_2.set_xlabel(\"x\")\n",
        "axes_2.set_ylabel(\"y\")\n",
        "\n",
        "axes_3.set_xlabel(\"x\")\n",
        "axes_3.set_ylabel(\"y\")\n",
        "\n",
        "axes_4.set_xlabel(\"x\")\n",
        "axes_4.set_ylabel(\"y\")\n",
        "\n",
        "figure.suptitle(\"Anscombe Data\")"
      ],
      "execution_count": 46,
      "outputs": [
        {
          "output_type": "execute_result",
          "data": {
            "text/plain": [
              "Text(0.5, 0.98, 'Anscombe Data')"
            ]
          },
          "metadata": {
            "tags": []
          },
          "execution_count": 46
        },
        {
          "output_type": "display_data",
          "data": {
            "image/png": "[encoded data removed]",
            "text/plain": [
              "<Figure size 720x720 with 4 Axes>"
            ]
          },
          "metadata": {
            "tags": []
          }
        }
      ]
    },
    {
      "cell_type": "code",
      "metadata": {
        "id": "kdKid6pm69Sy",
        "colab_type": "code",
        "colab": {
          "base_uri": "https://localhost:8080/",
          "height": 399
        },
        "outputId": "981d210c-2d14-4140-9214-1c16d542461c"
      },
      "source": [
        "tips = sns.load_dataset(\"tips\")\n",
        "print(tips.head())\n",
        "\n",
        "### Univariate\n",
        "\n",
        "figure = plt.figure()\n",
        "axes1 = figure.add_subplot(1, 1, 1)\n",
        "axes1.hist(tips['total_bill'], bins=10, histtype='bar')\n",
        "axes1.set_title(\"Histogram of total bill\")\n",
        "axes1.set_xlabel(\"Frequency\")\n",
        "axes1.set_ylabel(\"Total Bill\")\n",
        "figure.show()"
      ],
      "execution_count": 60,
      "outputs": [
        {
          "output_type": "stream",
          "text": [
            "   total_bill   tip     sex smoker  day    time  size\n",
            "0       16.99  1.01  Female     No  Sun  Dinner     2\n",
            "1       10.34  1.66    Male     No  Sun  Dinner     3\n",
            "2       21.01  3.50    Male     No  Sun  Dinner     3\n",
            "3       23.68  3.31    Male     No  Sun  Dinner     2\n",
            "4       24.59  3.61  Female     No  Sun  Dinner     4\n"
          ],
          "name": "stdout"
        },
        {
          "output_type": "display_data",
          "data": {
            "image/png": "[encoded data removed]",
            "text/plain": [
              "<Figure size 432x288 with 1 Axes>"
            ]
          },
          "metadata": {
            "tags": []
          }
        }
      ]
    },
    {
      "cell_type": "code",
      "metadata": {
        "id": "RZg_UDZe9R-Y",
        "colab_type": "code",
        "colab": {
          "base_uri": "https://localhost:8080/",
          "height": 295
        },
        "outputId": "7f21b429-4a36-411d-e714-ed5030c020bb"
      },
      "source": [
        "scatter_plot = plt.figure()\n",
        "axes2 = scatter_plot.add_subplot(1, 1, 1)\n",
        "axes2.scatter(tips['total_bill'], tips['tip'])\n",
        "axes2.set_title(\"Scatter plot of Total Bill vs Tip\")\n",
        "axes2.set_xlabel('Total Bill')\n",
        "axes2.set_ylabel('tip')\n",
        "scatter_plot.show()"
      ],
      "execution_count": 61,
      "outputs": [
        {
          "output_type": "display_data",
          "data": {
            "image/png": "[encoded data removed]",
            "text/plain": [
              "<Figure size 432x288 with 1 Axes>"
            ]
          },
          "metadata": {
            "tags": []
          }
        }
      ]
    },
    {
      "cell_type": "code",
      "metadata": {
        "id": "xJE4Yofw97f8",
        "colab_type": "code",
        "colab": {
          "base_uri": "https://localhost:8080/",
          "height": 312
        },
        "outputId": "9215586f-89ef-4e0c-ee70-35819849daca"
      },
      "source": [
        "# Boxplot are used when a discrete variable is plot against continuous variable\n",
        "boxplot = plt.figure()\n",
        "axes3 = boxplot.add_subplot(1, 1, 1)\n",
        "axes3.boxplot([ tips[tips['sex'] == 'Female']['tip'], tips[tips['sex'] == 'Male' ]['tip'] ], labels=['Female','Male'])\n",
        "axes3.set_xlabel('Sex')\n",
        "axes3.set_ylabel('Tip')\n",
        "axes3.set_title('BoxPlot of Tips vs Sex')"
      ],
      "execution_count": 62,
      "outputs": [
        {
          "output_type": "execute_result",
          "data": {
            "text/plain": [
              "Text(0.5, 1.0, 'BoxPlot of Tips vs Sex')"
            ]
          },
          "metadata": {
            "tags": []
          },
          "execution_count": 62
        },
        {
          "output_type": "display_data",
          "data": {
            "image/png": "[encoded data removed]",
            "text/plain": [
              "<Figure size 432x288 with 1 Axes>"
            ]
          },
          "metadata": {
            "tags": []
          }
        }
      ]
    },
    {
      "cell_type": "code",
      "metadata": {
        "id": "hw6PMaubCokQ",
        "colab_type": "code",
        "colab": {
          "base_uri": "https://localhost:8080/",
          "height": 295
        },
        "outputId": "8efea4e0-cb29-4e3a-a85d-486333c151e3"
      },
      "source": [
        "# Multivariate\n",
        "def determine_gender(sex):\n",
        "  if sex == \"Female\":\n",
        "    return 0\n",
        "  else:\n",
        "    return 1\n",
        "\n",
        "tips['sex_color'] = tips['sex'].apply(determine_gender)\n",
        "scatter_plot2 = plt.figure()\n",
        "axes4 = scatter_plot2.add_subplot(1, 1, 1)\n",
        "axes4.scatter(tips['total_bill'], tips['tip'], tips['size']*10, tips['sex_color'], alpha=0.5)\n",
        "axes4.set_title(\"Total Bill vs Tip colored by sex and sized by tips amount\")\n",
        "axes4.set_xlabel(\"Total Bill\")\n",
        "axes4.set_ylabel('Tip')\n",
        "scatter_plot2.show()"
      ],
      "execution_count": 66,
      "outputs": [
        {
          "output_type": "display_data",
          "data": {
            "image/png": "[encoded data removed]",
            "text/plain": [
              "<Figure size 432x288 with 1 Axes>"
            ]
          },
          "metadata": {
            "tags": []
          }
        }
      ]
    }
  ]
}