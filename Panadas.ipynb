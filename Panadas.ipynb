{
  "nbformat": 4,
  "nbformat_minor": 0,
  "metadata": {
    "colab": {
      "name": "Untitled",
      "version": "0.3.2",
      "provenance": [],
      "collapsed_sections": [],
      "include_colab_link": true
    },
    "kernelspec": {
      "name": "python3",
      "display_name": "Python 3"
    }
  },
  "cells": [
    {
      "cell_type": "markdown",
      "metadata": {
        "id": "view-in-github",
        "colab_type": "text"
      },
      "source": [
        "<a href=\"https://colab.research.google.com/github/MohammadAliAfsahi/Python_Pandas_Library/blob/master/Panadas.ipynb\" target=\"_parent\"><img src=\"https://colab.research.google.com/assets/colab-badge.svg\" alt=\"Open In Colab\"/></a>"
      ]
    },
    {
      "cell_type": "code",
      "metadata": {
        "id": "JUeuFAF7__Fv",
        "colab_type": "code",
        "outputId": "9aa962fa-f490-4517-821c-9c2c0fbdac40",
        "colab": {
          "base_uri": "https://localhost:8080/",
          "height": 260
        }
      },
      "source": [
        "import pandas as pd\n",
        "from google.colab import drive\n",
        "\n",
        "url = 'https://raw.githubusercontent.com/jennybc/gapminder/master/inst/extdata/gapminder.tsv'\n",
        "\n",
        "#drive.mount('/content/drive')\n",
        "\n",
        "path = \"/content/drive/My Drive/Colab Notebooks/hard_drive_failure_data.csv\"\n",
        "\n",
        "dataFrame = pd.read_csv(path)\n",
        "\n",
        "print(dataFrame.tail())\n",
        "\n",
        "dataFrame2 = pd.read_csv(url,sep=\"\\t\")\n",
        "\n",
        "print(dataFrame2.head())\n"
      ],
      "execution_count": 69,
      "outputs": [
        {
          "output_type": "stream",
          "text": [
            "                    @timestamp  @version  ...   serial_number lifetime\n",
            "2982  2018-02-15T08:36:30.539Z         1  ...        ZA13R3T3      316\n",
            "2983  2018-02-15T08:54:52.382Z         1  ...        Z3014P0L      724\n",
            "2984  2018-02-15T08:55:11.378Z         1  ...        ZCH03K2S       46\n",
            "2985  2018-02-15T10:29:54.647Z         1  ...        S301GNPF      725\n",
            "2986  2018-02-15T10:35:37.917Z         1  ...  PL1331LAHD1JAH      559\n",
            "\n",
            "[5 rows x 8 columns]\n",
            "       country continent  year  lifeExp       pop   gdpPercap\n",
            "0  Afghanistan      Asia  1952   28.801   8425333  779.445314\n",
            "1  Afghanistan      Asia  1957   30.332   9240934  820.853030\n",
            "2  Afghanistan      Asia  1962   31.997  10267083  853.100710\n",
            "3  Afghanistan      Asia  1967   34.020  11537966  836.197138\n",
            "4  Afghanistan      Asia  1972   36.088  13079460  739.981106\n"
          ],
          "name": "stdout"
        }
      ]
    },
    {
      "cell_type": "code",
      "metadata": {
        "id": "7ouD8Tu3oacz",
        "colab_type": "code",
        "colab": {
          "base_uri": "https://localhost:8080/",
          "height": 34
        },
        "outputId": "a0210feb-3272-4bbc-b762-14c5983056b0"
      },
      "source": [
        "print(type(dataFrame2))"
      ],
      "execution_count": 70,
      "outputs": [
        {
          "output_type": "stream",
          "text": [
            "<class 'pandas.core.frame.DataFrame'>\n"
          ],
          "name": "stdout"
        }
      ]
    },
    {
      "cell_type": "code",
      "metadata": {
        "id": "GE69jcwYowts",
        "colab_type": "code",
        "colab": {
          "base_uri": "https://localhost:8080/",
          "height": 34
        },
        "outputId": "d7aa32c3-7da3-46c1-f17a-8de11d1277a2"
      },
      "source": [
        "print(dataFrame2.shape)"
      ],
      "execution_count": 71,
      "outputs": [
        {
          "output_type": "stream",
          "text": [
            "(1704, 6)\n"
          ],
          "name": "stdout"
        }
      ]
    },
    {
      "cell_type": "code",
      "metadata": {
        "id": "eygpBIlqpLZQ",
        "colab_type": "code",
        "colab": {
          "base_uri": "https://localhost:8080/",
          "height": 69
        },
        "outputId": "ea8099a4-be6c-4fd5-f6f2-dd139716b2c5"
      },
      "source": [
        "print(dataFrame.columns)"
      ],
      "execution_count": 72,
      "outputs": [
        {
          "output_type": "stream",
          "text": [
            "Index(['@timestamp', '@version', 'capacity_bytes', 'date', 'failure', 'model',\n",
            "       'serial_number', 'lifetime'],\n",
            "      dtype='object')\n"
          ],
          "name": "stdout"
        }
      ]
    },
    {
      "cell_type": "code",
      "metadata": {
        "id": "pheEcOHdpsn5",
        "colab_type": "code",
        "colab": {
          "base_uri": "https://localhost:8080/",
          "height": 416
        },
        "outputId": "94d44aa4-8a5b-4040-da5c-f295e22dee9e"
      },
      "source": [
        "print(\"-------------------checking columns data(each Series) type using dtypes attribute-------------\")\n",
        "print(dataFrame.dtypes)\n",
        "print(\"-------------------checking columns data(each Series) type using info() function-------------\")\n",
        "print(dataFrame2.info())"
      ],
      "execution_count": 73,
      "outputs": [
        {
          "output_type": "stream",
          "text": [
            "-------------------checking columns data(each Series) type using dtypes attribute-------------\n",
            "@timestamp         object\n",
            "@version            int64\n",
            "capacity_bytes    float64\n",
            "date               object\n",
            "failure             int64\n",
            "model              object\n",
            "serial_number      object\n",
            "lifetime            int64\n",
            "dtype: object\n",
            "-------------------checking columns data(each Series) type using info() function-------------\n",
            "<class 'pandas.core.frame.DataFrame'>\n",
            "RangeIndex: 1704 entries, 0 to 1703\n",
            "Data columns (total 6 columns):\n",
            "country      1704 non-null object\n",
            "continent    1704 non-null object\n",
            "year         1704 non-null int64\n",
            "lifeExp      1704 non-null float64\n",
            "pop          1704 non-null int64\n",
            "gdpPercap    1704 non-null float64\n",
            "dtypes: float64(2), int64(2), object(2)\n",
            "memory usage: 80.0+ KB\n",
            "None\n"
          ],
          "name": "stdout"
        }
      ]
    },
    {
      "cell_type": "code",
      "metadata": {
        "id": "KCDe3remqexe",
        "colab_type": "code",
        "colab": {
          "base_uri": "https://localhost:8080/",
          "height": 1000
        },
        "outputId": "825329e4-cf40-49e1-d9f8-7d8423b4bede"
      },
      "source": [
        "models = dataFrame['model']\n",
        "continent = dataFrame2['continent']\n",
        "print(models)\n",
        "\n",
        "print(\"\\nhead rows of models column: \")\n",
        "print(models.head())\n",
        "\n",
        "print(\"\\ntail rows of models column: \")\n",
        "print(models.tail())\n",
        "\n",
        "# or instead of using dictionary form of dataframes we cant use dot notation as below\n",
        "print(\"\\nusing dot notation: \")\n",
        "models_dot = dataFrame.model\n",
        "continent_dot = dataFrame2.continent\n",
        "print(continent_dot)\n"
      ],
      "execution_count": 74,
      "outputs": [
        {
          "output_type": "stream",
          "text": [
            "0                   ST8000DM002\n",
            "1                 ST250LM004 HN\n",
            "2                   ST4000DM000\n",
            "3                   ST8000DM002\n",
            "4                   ST4000DM000\n",
            "5                   ST4000DM000\n",
            "6                   ST4000DM000\n",
            "7                   ST4000DM000\n",
            "8                   ST8000DM002\n",
            "9          HGST HMS5C4040BLE640\n",
            "10                  ST4000DM000\n",
            "11                  ST4000DX000\n",
            "12         HGST HMS5C4040BLE640\n",
            "13         HGST HMS5C4040ALE640\n",
            "14                  ST4000DM000\n",
            "15                  ST4000DM000\n",
            "16                  ST4000DM000\n",
            "17                  ST4000DM000\n",
            "18                  ST4000DM000\n",
            "19                  ST4000DM000\n",
            "20                  ST4000DX000\n",
            "21                  ST4000DM000\n",
            "22                  ST4000DM000\n",
            "23                  ST4000DM000\n",
            "24      Hitachi HDS5C4040ALE630\n",
            "25         HGST HMS5C4040BLE640\n",
            "26                  ST4000DM000\n",
            "27                  ST4000DM000\n",
            "28                  ST4000DM000\n",
            "29                  ST4000DM000\n",
            "                 ...           \n",
            "2957                ST4000DM000\n",
            "2958                ST4000DM000\n",
            "2959                ST4000DM000\n",
            "2960                ST4000DM000\n",
            "2961               ST8000NM0055\n",
            "2962                ST8000DM002\n",
            "2963              ST10000NM0086\n",
            "2964               ST8000NM0055\n",
            "2965                ST4000DM001\n",
            "2966                ST4000DM000\n",
            "2967                ST4000DM000\n",
            "2968                ST4000DM001\n",
            "2969                ST4000DM001\n",
            "2970                ST4000DM000\n",
            "2971                ST4000DM000\n",
            "2972                ST4000DM000\n",
            "2973                ST4000DM000\n",
            "2974                ST4000DM000\n",
            "2975                ST4000DM000\n",
            "2976                ST4000DM000\n",
            "2977                ST4000DM000\n",
            "2978               ST8000NM0055\n",
            "2979    Hitachi HDS5C4040ALE630\n",
            "2980                ST4000DM000\n",
            "2981               ST8000NM0055\n",
            "2982                ST8000DM002\n",
            "2983                ST4000DM000\n",
            "2984              ST12000NM0007\n",
            "2985                ST4000DM000\n",
            "2986       HGST HMS5C4040BLE640\n",
            "Name: model, Length: 2987, dtype: object\n",
            "\n",
            "head rows of models column: \n",
            "0      ST8000DM002\n",
            "1    ST250LM004 HN\n",
            "2      ST4000DM000\n",
            "3      ST8000DM002\n",
            "4      ST4000DM000\n",
            "Name: model, dtype: object\n",
            "\n",
            "tail rows of models column: \n",
            "2982             ST8000DM002\n",
            "2983             ST4000DM000\n",
            "2984           ST12000NM0007\n",
            "2985             ST4000DM000\n",
            "2986    HGST HMS5C4040BLE640\n",
            "Name: model, dtype: object\n",
            "\n",
            "using dot notation: \n",
            "0         Asia\n",
            "1         Asia\n",
            "2         Asia\n",
            "3         Asia\n",
            "4         Asia\n",
            "5         Asia\n",
            "6         Asia\n",
            "7         Asia\n",
            "8         Asia\n",
            "9         Asia\n",
            "10        Asia\n",
            "11        Asia\n",
            "12      Europe\n",
            "13      Europe\n",
            "14      Europe\n",
            "15      Europe\n",
            "16      Europe\n",
            "17      Europe\n",
            "18      Europe\n",
            "19      Europe\n",
            "20      Europe\n",
            "21      Europe\n",
            "22      Europe\n",
            "23      Europe\n",
            "24      Africa\n",
            "25      Africa\n",
            "26      Africa\n",
            "27      Africa\n",
            "28      Africa\n",
            "29      Africa\n",
            "         ...  \n",
            "1674      Asia\n",
            "1675      Asia\n",
            "1676      Asia\n",
            "1677      Asia\n",
            "1678      Asia\n",
            "1679      Asia\n",
            "1680    Africa\n",
            "1681    Africa\n",
            "1682    Africa\n",
            "1683    Africa\n",
            "1684    Africa\n",
            "1685    Africa\n",
            "1686    Africa\n",
            "1687    Africa\n",
            "1688    Africa\n",
            "1689    Africa\n",
            "1690    Africa\n",
            "1691    Africa\n",
            "1692    Africa\n",
            "1693    Africa\n",
            "1694    Africa\n",
            "1695    Africa\n",
            "1696    Africa\n",
            "1697    Africa\n",
            "1698    Africa\n",
            "1699    Africa\n",
            "1700    Africa\n",
            "1701    Africa\n",
            "1702    Africa\n",
            "1703    Africa\n",
            "Name: continent, Length: 1704, dtype: object\n"
          ],
          "name": "stdout"
        }
      ]
    },
    {
      "cell_type": "code",
      "metadata": {
        "id": "4M5V7Vs5uIGh",
        "colab_type": "code",
        "colab": {
          "base_uri": "https://localhost:8080/",
          "height": 1000
        },
        "outputId": "cc1c6108-bb15-41c5-c555-1aca920aec8d"
      },
      "source": [
        "subset = dataFrame[['failure','model','serial_number','lifetime']]\n",
        "print(subset)\n",
        "# again we cam use subset.head() or subset.tail()\n",
        "\n"
      ],
      "execution_count": 75,
      "outputs": [
        {
          "output_type": "stream",
          "text": [
            "      failure                    model   serial_number  lifetime\n",
            "0           1              ST8000DM002        ZA11WTAK       299\n",
            "1           1            ST250LM004 HN  S2T0J9ACB00405       473\n",
            "2           1              ST4000DM000        Z300GQJ1       483\n",
            "3           1              ST8000DM002        ZA13QBYE       159\n",
            "4           1              ST4000DM000        Z3040KMY       477\n",
            "5           1              ST4000DM000        W300DD6P       481\n",
            "6           1              ST4000DM000        S300XBP0       484\n",
            "7           1              ST4000DM000        Z305BNDZ       485\n",
            "8           1              ST8000DM002        ZA12QCHW       198\n",
            "9           1     HGST HMS5C4040BLE640  PL2331LAH46A7J       361\n",
            "10          1              ST4000DM000        Z3059LJ1       446\n",
            "11          1              ST4000DX000        Z1Z054BY       471\n",
            "12          1     HGST HMS5C4040BLE640  PL1331LAHBSRGH        26\n",
            "13          1     HGST HMS5C4040ALE640  PL1331LAGSE14H       463\n",
            "14          1              ST4000DM000        Z305BAKB       428\n",
            "15          1              ST4000DM000        Z300GQ7V       471\n",
            "16          1              ST4000DM000        W300D26M       462\n",
            "17          1              ST4000DM000        Z3054HPN       416\n",
            "18          1              ST4000DM000        Z300GZBV       468\n",
            "19          1              ST4000DM000        Z3024W1C       470\n",
            "20          1              ST4000DX000        Z1Z03J9E       460\n",
            "21          1              ST4000DM000        Z304L9P8       490\n",
            "22          1              ST4000DM000        Z3023X6K       489\n",
            "23          1              ST4000DM000        Z302AKQS       492\n",
            "24          1  Hitachi HDS5C4040ALE630  PL2311LAG1L4AC       493\n",
            "25          1     HGST HMS5C4040BLE640  PL2331LAHBAP3J       330\n",
            "26          1              ST4000DM000        Z305D2KE       458\n",
            "27          1              ST4000DM000        W300J8DX       494\n",
            "28          1              ST4000DM000        Z300TXH6       492\n",
            "29          1              ST4000DM000        Z3015SZN       492\n",
            "...       ...                      ...             ...       ...\n",
            "2957        1              ST4000DM000        Z300YNE9       662\n",
            "2958        1              ST4000DM000        Z300KH3R       668\n",
            "2959        1              ST4000DM000        Z300Z2VD       670\n",
            "2960        1              ST4000DM000        Z304JH3K       663\n",
            "2961        1             ST8000NM0055        ZA18BLNT        64\n",
            "2962        1              ST8000DM002        ZA13QZMB       339\n",
            "2963        1            ST10000NM0086        ZA21BZ3S        43\n",
            "2964        1             ST8000NM0055        ZA180ZPA       119\n",
            "2965        1              ST4000DM001        W4J161QA       153\n",
            "2966        1              ST4000DM000        Z3016WC8       672\n",
            "2967        1              ST4000DM000        W300BN3T       678\n",
            "2968        1              ST4000DM001        W4J1MBP1       148\n",
            "2969        1              ST4000DM001        W4J1F0N8       155\n",
            "2970        1              ST4000DM000        W300BNJ9       690\n",
            "2971        1              ST4000DM000        Z300PA4H       694\n",
            "2972        1              ST4000DM000        Z300ZV0V       717\n",
            "2973        1              ST4000DM000        S300YQF1       709\n",
            "2974        1              ST4000DM000        Z3041857       717\n",
            "2975        1              ST4000DM000        Z305D5ME       670\n",
            "2976        1              ST4000DM000        Z300KN10       710\n",
            "2977        1              ST4000DM000        Z3011WAL       720\n",
            "2978        1             ST8000NM0055        ZA16DXLR       284\n",
            "2979        1  Hitachi HDS5C4040ALE630  PL2311LAG1KZPC       721\n",
            "2980        1              ST4000DM000        Z304KBFE       720\n",
            "2981        1             ST8000NM0055        ZA136HJV       190\n",
            "2982        1              ST8000DM002        ZA13R3T3       316\n",
            "2983        1              ST4000DM000        Z3014P0L       724\n",
            "2984        1            ST12000NM0007        ZCH03K2S        46\n",
            "2985        1              ST4000DM000        S301GNPF       725\n",
            "2986        1     HGST HMS5C4040BLE640  PL1331LAHD1JAH       559\n",
            "\n",
            "[2987 rows x 4 columns]\n"
          ],
          "name": "stdout"
        }
      ]
    },
    {
      "cell_type": "code",
      "metadata": {
        "id": "j6QeRyus_FOC",
        "colab_type": "code",
        "colab": {
          "base_uri": "https://localhost:8080/",
          "height": 694
        },
        "outputId": "ce54aafb-007c-4e2d-ecf2-7826e7268574"
      },
      "source": [
        "column_range = list(range(8,2))\n",
        "\n",
        "subset2 = dataFrame.loc[2]\n",
        "print(subset2)\n",
        "print(\"\\n------------------\\n\")\n",
        "print(dataFrame.tail(n=1))\n",
        "\n",
        "print(\"\\n----------------\\n\")\n",
        "print(\"Let's check the types:\\n\")\n",
        "print(type(dataFrame.loc[2]))\n",
        "print(type(dataFrame.tail(n=1)))\n",
        "\n",
        "print(\"\\n--------------------\")\n",
        "print(dataFrame.loc[[0,99,999]])\n",
        "#dataFrame.iloc[0] does the same if you want check it yourself\n",
        "print(dataFrame.iloc[0,0])\n",
        "print(\"\\n--------------------\")\n",
        "print(dataFrame.loc[99,\"model\"])\n",
        "print(dataFrame.iloc[99,5])# notice the difference between loc and iloc\n",
        "print(\"\\n--------------------\")\n",
        "# With next line we can filter columns 5, 6 and 7 and also get rows 0 and 3 \n",
        "print(dataFrame.iloc[[0,3],[5,6,7]]) # or .loc[[0,3],[\"model\",\"serial_number\",\"lifetime\"]]"
      ],
      "execution_count": 121,
      "outputs": [
        {
          "output_type": "stream",
          "text": [
            "@timestamp        2018-01-01T09:57:00.561Z\n",
            "@version                                 1\n",
            "capacity_bytes                 4.00079e+12\n",
            "date              2017-04-28T21:00:00.000Z\n",
            "failure                                  1\n",
            "model                          ST4000DM000\n",
            "serial_number                     Z300GQJ1\n",
            "lifetime                               483\n",
            "Name: 2, dtype: object\n",
            "\n",
            "------------------\n",
            "\n",
            "                    @timestamp  @version  ...   serial_number lifetime\n",
            "2986  2018-02-15T10:35:37.917Z         1  ...  PL1331LAHD1JAH      559\n",
            "\n",
            "[1 rows x 8 columns]\n",
            "\n",
            "----------------\n",
            "\n",
            "Let's check the types:\n",
            "\n",
            "<class 'pandas.core.series.Series'>\n",
            "<class 'pandas.core.frame.DataFrame'>\n",
            "\n",
            "--------------------\n",
            "                   @timestamp  @version  ...  serial_number lifetime\n",
            "0    2018-01-01T09:38:29.732Z         1  ...       ZA11WTAK      299\n",
            "99   2018-01-10T07:37:41.737Z         1  ...       Z304GHJH      310\n",
            "999  2018-01-01T14:02:50.849Z         1  ...       ZA14ERC7        5\n",
            "\n",
            "[3 rows x 8 columns]\n",
            "2018-01-01T09:38:29.732Z\n",
            "\n",
            "--------------------\n",
            "ST4000DM000\n",
            "ST4000DM000\n",
            "         model serial_number  lifetime\n",
            "0  ST8000DM002      ZA11WTAK       299\n",
            "3  ST8000DM002      ZA13QBYE       159\n"
          ],
          "name": "stdout"
        }
      ]
    },
    {
      "cell_type": "code",
      "metadata": {
        "id": "mZVm0ZcbQwOH",
        "colab_type": "code",
        "colab": {
          "base_uri": "https://localhost:8080/",
          "height": 1000
        },
        "outputId": "0b21c306-2e61-43e0-811f-e016609ce61d"
      },
      "source": [
        "print(\"Grouped and aggregated calculations\")\n",
        "print(dataFrame2.groupby('year')['lifeExp'].mean())# it groups each row to its year and then we calculate mean on the lifeExp\n",
        "print(\"\\n----------------------\")\n",
        "print(dataFrame2.groupby(['year','continent','country'])[['lifeExp','gdpPercap']].mean())# e.g In 2007 Belgium which is European country \n",
        "                                                                            # had 79.441 life expectancy and 33692.605080 for Gross Domestic \n",
        "                                                                            # Product Per capita\n",
        "    \n",
        "\n",
        "\n",
        "print(dataFrame.groupby('model')['serial_number'].nunique())\n",
        "print(dataFrame.groupby('model')['serial_number'].value_counts)\n",
        "\n",
        "dataFrame2.groupby('year')['lifeExp'].mean().plot()"
      ],
      "execution_count": 132,
      "outputs": [
        {
          "output_type": "stream",
          "text": [
            "Grouped and aggregated calculations\n",
            "year\n",
            "1952    49.057620\n",
            "1957    51.507401\n",
            "1962    53.609249\n",
            "1967    55.678290\n",
            "1972    57.647386\n",
            "1977    59.570157\n",
            "1982    61.533197\n",
            "1987    63.212613\n",
            "1992    64.160338\n",
            "1997    65.014676\n",
            "2002    65.694923\n",
            "2007    67.007423\n",
            "Name: lifeExp, dtype: float64\n",
            "\n",
            "----------------------\n",
            "                                         lifeExp     gdpPercap\n",
            "year continent country                                        \n",
            "1952 Africa    Algeria                    43.077   2449.008185\n",
            "               Angola                     30.015   3520.610273\n",
            "               Benin                      38.223   1062.752200\n",
            "               Botswana                   47.622    851.241141\n",
            "               Burkina Faso               31.975    543.255241\n",
            "               Burundi                    39.031    339.296459\n",
            "               Cameroon                   38.523   1172.667655\n",
            "               Central African Republic   35.463   1071.310713\n",
            "               Chad                       38.092   1178.665927\n",
            "               Comoros                    40.715   1102.990936\n",
            "               Congo, Dem. Rep.           39.143    780.542326\n",
            "               Congo, Rep.                42.111   2125.621418\n",
            "               Cote d'Ivoire              40.477   1388.594732\n",
            "               Djibouti                   34.812   2669.529475\n",
            "               Egypt                      41.893   1418.822445\n",
            "               Equatorial Guinea          34.482    375.643123\n",
            "               Eritrea                    35.928    328.940557\n",
            "               Ethiopia                   34.078    362.146280\n",
            "               Gabon                      37.003   4293.476475\n",
            "               Gambia                     30.000    485.230659\n",
            "               Ghana                      43.149    911.298937\n",
            "               Guinea                     33.609    510.196492\n",
            "               Guinea-Bissau              32.500    299.850319\n",
            "               Kenya                      42.270    853.540919\n",
            "               Lesotho                    42.138    298.846212\n",
            "               Liberia                    38.480    575.572996\n",
            "               Libya                      42.723   2387.548060\n",
            "               Madagascar                 36.681   1443.011715\n",
            "               Malawi                     36.256    369.165080\n",
            "               Mali                       33.685    452.336981\n",
            "...                                          ...           ...\n",
            "2007 Europe    Belgium                    79.441  33692.605080\n",
            "               Bosnia and Herzegovina     74.852   7446.298803\n",
            "               Bulgaria                   73.005  10680.792820\n",
            "               Croatia                    75.748  14619.222720\n",
            "               Czech Republic             76.486  22833.308510\n",
            "               Denmark                    78.332  35278.418740\n",
            "               Finland                    79.313  33207.084400\n",
            "               France                     80.657  30470.016700\n",
            "               Germany                    79.406  32170.374420\n",
            "               Greece                     79.483  27538.411880\n",
            "               Hungary                    73.338  18008.944440\n",
            "               Iceland                    81.757  36180.789190\n",
            "               Ireland                    78.885  40675.996350\n",
            "               Italy                      80.546  28569.719700\n",
            "               Montenegro                 74.543   9253.896111\n",
            "               Netherlands                79.762  36797.933320\n",
            "               Norway                     80.196  49357.190170\n",
            "               Poland                     75.563  15389.924680\n",
            "               Portugal                   78.098  20509.647770\n",
            "               Romania                    72.476  10808.475610\n",
            "               Serbia                     74.002   9786.534714\n",
            "               Slovak Republic            74.663  18678.314350\n",
            "               Slovenia                   77.926  25768.257590\n",
            "               Spain                      80.941  28821.063700\n",
            "               Sweden                     80.884  33859.748350\n",
            "               Switzerland                81.701  37506.419070\n",
            "               Turkey                     71.777   8458.276384\n",
            "               United Kingdom             79.425  33203.261280\n",
            "     Oceania   Australia                  81.235  34435.367440\n",
            "               New Zealand                80.204  25185.009110\n",
            "\n",
            "[1704 rows x 2 columns]\n",
            "model\n",
            "HGST HDS5C4040ALE630          2\n",
            "HGST HMS5C4040ALE640         53\n",
            "HGST HMS5C4040BLE640        123\n",
            "HGST HUS726040ALE610          1\n",
            "Hitachi HDS5C3030ALA630      49\n",
            "Hitachi HDS5C4040ALE630      21\n",
            "Hitachi HDS722020ALA330      43\n",
            "Hitachi HDS723030ALA640      26\n",
            "ST10000NM0086                 3\n",
            "ST12000NM0007                17\n",
            "ST250LM004 HN                 5\n",
            "ST250LT007                    4\n",
            "ST31500541AS                  3\n",
            "ST3160316AS                   2\n",
            "ST3160318AS                   7\n",
            "ST320LT007                   63\n",
            "ST3500320AS                   1\n",
            "ST4000DM000                2001\n",
            "ST4000DM001                  33\n",
            "ST4000DM005                   1\n",
            "ST4000DX000                  71\n",
            "ST500LM012 HN                25\n",
            "ST6000DX000                  29\n",
            "ST8000DM002                 141\n",
            "ST8000NM0055                 88\n",
            "ST9250315AS                   4\n",
            "ST9320325AS                   1\n",
            "TOSHIBA DT01ACA300            2\n",
            "TOSHIBA MD04ABA400V           1\n",
            "TOSHIBA MD04ABA500V           1\n",
            "TOSHIBA MQ01ABF050           11\n",
            "TOSHIBA MQ01ABF050M           1\n",
            "WDC WD10EACS                  2\n",
            "WDC WD10EADS                  7\n",
            "WDC WD1600AAJB                4\n",
            "WDC WD1600AAJS                7\n",
            "WDC WD1600BPVT                1\n",
            "WDC WD20EFRX                  6\n",
            "WDC WD30EFRX                 43\n",
            "WDC WD3200AAJB                1\n",
            "WDC WD3200BEKT                1\n",
            "WDC WD3200BEKX                2\n",
            "WDC WD40EFRX                  2\n",
            "WDC WD5000BPKT                1\n",
            "WDC WD5000LPCX                1\n",
            "WDC WD5000LPVX               10\n",
            "WDC WD5002ABYS                2\n",
            "WDC WD60EFRX                 34\n",
            "WDC WD800AAJB                 2\n",
            "WDC WD800AAJS                14\n",
            "WDC WD800BB                   5\n",
            "WDC WD800JB                   4\n",
            "WDC WD800JD                   1\n",
            "WDC WD800LB                   1\n",
            "Name: serial_number, dtype: int64\n",
            "<bound method SeriesGroupBy.value_counts of <pandas.core.groupby.generic.SeriesGroupBy object at 0x7f4c3348e240>>\n"
          ],
          "name": "stdout"
        },
        {
          "output_type": "execute_result",
          "data": {
            "text/plain": [
              "<matplotlib.axes._subplots.AxesSubplot at 0x7f4c3544f7f0>"
            ]
          },
          "metadata": {
            "tags": []
          },
          "execution_count": 132
        },
        {
          "output_type": "display_data",
          "data": {
            "image/png": "[encoded data removed]",
            "text/plain": [
              "<Figure size 432x288 with 1 Axes>"
            ]
          },
          "metadata": {
            "tags": []
          }
        }
      ]
    },
    {
      "cell_type": "code",
      "metadata": {
        "id": "rbUdSc0UW_Mh",
        "colab_type": "code",
        "colab": {}
      },
      "source": [
        ""
      ],
      "execution_count": 0,
      "outputs": []
    }
  ]
}